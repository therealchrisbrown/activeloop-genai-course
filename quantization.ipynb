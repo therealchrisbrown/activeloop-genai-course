{
 "cells": [
  {
   "cell_type": "markdown",
   "metadata": {},
   "source": [
    "# Scalar Quantization\n",
    "\n",
    "- each dimension of the dataset is treated independently\n",
    "- The maximum and minimum values are calculated for each dimension across the dataset.\n",
    "- The range between the maximum and minimum values in each dimension is then divided into equal-sized bins.\n"
   ]
  },
  {
   "cell_type": "code",
   "execution_count": 1,
   "metadata": {},
   "outputs": [],
   "source": [
    "import numpy as np\n",
    "\n",
    "dataset = np.random.normal(size=(2000,256))"
   ]
  },
  {
   "cell_type": "code",
   "execution_count": 2,
   "metadata": {},
   "outputs": [],
   "source": [
    "# Calculate and store min and max \n",
    "\n",
    "ranges = np.vstack((np.min(dataset, axis=0), np.max(dataset, axis=0)))"
   ]
  },
  {
   "cell_type": "code",
   "execution_count": 3,
   "metadata": {},
   "outputs": [],
   "source": [
    "starts = ranges[0,:]\n",
    "steps = (ranges[1,:] - ranges[0,:]) / 255"
   ]
  },
  {
   "cell_type": "code",
   "execution_count": 4,
   "metadata": {},
   "outputs": [],
   "source": [
    "scalar_quantized_dataset = np.uint8((dataset - starts) / steps)"
   ]
  },
  {
   "cell_type": "code",
   "execution_count": 5,
   "metadata": {},
   "outputs": [],
   "source": [
    "def scalar_quantisation(dataset):\n",
    "    # Calculate and store minimum and maximum across each dimension\n",
    "    ranges = np.vstack((np.min(dataset, axis=0), np.max(dataset, axis=0)))\n",
    "    starts = ranges[0,:]\n",
    "    steps = (ranges[1,:] - starts) / 255\n",
    "    return np.uint8((dataset - starts) / steps)"
   ]
  },
  {
   "cell_type": "code",
   "execution_count": null,
   "metadata": {},
   "outputs": [],
   "source": []
  }
 ],
 "metadata": {
  "kernelspec": {
   "display_name": "activeloop-course",
   "language": "python",
   "name": "python3"
  },
  "language_info": {
   "codemirror_mode": {
    "name": "ipython",
    "version": 3
   },
   "file_extension": ".py",
   "mimetype": "text/x-python",
   "name": "python",
   "nbconvert_exporter": "python",
   "pygments_lexer": "ipython3",
   "version": "3.8.18"
  }
 },
 "nbformat": 4,
 "nbformat_minor": 2
}
