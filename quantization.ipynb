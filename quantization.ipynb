{
 "cells": [
  {
   "cell_type": "markdown",
   "metadata": {},
   "source": [
    "# Scalar Quantization\n",
    "\n",
    "- each dimension of the dataset is treated independently\n",
    "- The maximum and minimum values are calculated for each dimension across the dataset.\n",
    "- The range between the maximum and minimum values in each dimension is then divided into equal-sized bins.\n"
   ]
  },
  {
   "cell_type": "code",
   "execution_count": 1,
   "metadata": {},
   "outputs": [],
   "source": [
    "import numpy as np\n",
    "\n",
    "dataset = np.random.normal(size=(2000,256))"
   ]
  },
  {
   "cell_type": "code",
   "execution_count": 2,
   "metadata": {},
   "outputs": [],
   "source": [
    "# Calculate and store min and max \n",
    "\n",
    "ranges = np.vstack((np.min(dataset, axis=0), np.max(dataset, axis=0)))"
   ]
  },
  {
   "cell_type": "code",
   "execution_count": 3,
   "metadata": {},
   "outputs": [],
   "source": [
    "starts = ranges[0,:]\n",
    "steps = (ranges[1,:] - ranges[0,:]) / 255"
   ]
  },
  {
   "cell_type": "code",
   "execution_count": 4,
   "metadata": {},
   "outputs": [],
   "source": [
    "scalar_quantized_dataset = np.uint8((dataset - starts) / steps)"
   ]
  },
  {
   "cell_type": "code",
   "execution_count": 5,
   "metadata": {},
   "outputs": [],
   "source": [
    "def scalar_quantisation(dataset):\n",
    "    # Calculate and store minimum and maximum across each dimension\n",
    "    ranges = np.vstack((np.min(dataset, axis=0), np.max(dataset, axis=0)))\n",
    "    starts = ranges[0,:]\n",
    "    steps = (ranges[1,:] - starts) / 255\n",
    "    return np.uint8((dataset - starts) / steps)"
   ]
  },
  {
   "cell_type": "markdown",
   "metadata": {},
   "source": [
    "# Product Quantization\n",
    "\n",
    "- can preserve more information by dividing each vector into sub-vectors and quantizing each sub-vector independently."
   ]
  },
  {
   "cell_type": "code",
   "execution_count": 7,
   "metadata": {},
   "outputs": [
    {
     "name": "stderr",
     "output_type": "stream",
     "text": [
      "/Users/christianbraun/opt/miniconda3/envs/activeloop-course/lib/python3.8/site-packages/sklearn/cluster/_kmeans.py:1416: FutureWarning: The default value of `n_init` will change from 10 to 'auto' in 1.4. Set the value of `n_init` explicitly to suppress the warning\n",
      "  super()._check_params_vs_input(X, default_n_init=10)\n"
     ]
    },
    {
     "data": {
      "text/plain": [
       "array([[0, 1, 1],\n",
       "       [0, 0, 0]], dtype=int32)"
      ]
     },
     "execution_count": 7,
     "metadata": {},
     "output_type": "execute_result"
    }
   ],
   "source": [
    "from sklearn.cluster import KMeans\n",
    "import numpy as np\n",
    "\n",
    "# Given array\n",
    "array = np.array([\n",
    "    [8.2, 10.3, 290.1, 278.1, 310.3, 299.9, 308.7, 289.7, 300.1],\n",
    "    [0.1, 7.3, 8.9, 9.7, 6.9, 9.55, 8.1, 8.5, 8.99]\n",
    "])\n",
    "\n",
    "# Number of subvectors and centroids\n",
    "m, k = 3, 2\n",
    "\n",
    "# Divide each vector into m disjoint sub-vectors\n",
    "subvectors = array.reshape(-1, m)\n",
    "\n",
    "# Perform k-means on each sub-vector independently\n",
    "kmeans = KMeans(n_clusters=k, random_state=0).fit(subvectors)\n",
    "\n",
    "# Replace each sub-vector with the index of the nearest centroid\n",
    "labels = kmeans.labels_\n",
    "\n",
    "# Reshape labels to match the shape of the original array\n",
    "quantized_array = labels.reshape(array.shape[0], -1)\n",
    "\n",
    "# Output the quantized array\n",
    "quantized_array"
   ]
  }
 ],
 "metadata": {
  "kernelspec": {
   "display_name": "activeloop-course",
   "language": "python",
   "name": "python3"
  },
  "language_info": {
   "codemirror_mode": {
    "name": "ipython",
    "version": 3
   },
   "file_extension": ".py",
   "mimetype": "text/x-python",
   "name": "python",
   "nbconvert_exporter": "python",
   "pygments_lexer": "ipython3",
   "version": "3.8.18"
  }
 },
 "nbformat": 4,
 "nbformat_minor": 2
}
