{
 "cells": [
  {
   "cell_type": "code",
   "execution_count": 1,
   "metadata": {},
   "outputs": [
    {
     "data": {
      "text/plain": [
       "True"
      ]
     },
     "execution_count": 1,
     "metadata": {},
     "output_type": "execute_result"
    }
   ],
   "source": [
    "from dotenv import load_dotenv\n",
    "load_dotenv()"
   ]
  },
  {
   "cell_type": "code",
   "execution_count": 2,
   "metadata": {},
   "outputs": [],
   "source": [
    "import openai"
   ]
  },
  {
   "cell_type": "code",
   "execution_count": 3,
   "metadata": {},
   "outputs": [],
   "source": [
    "prompt_system = \"You are a helpful assistant whose goal is to help write product descriptions.\"\n",
    "prompt = \"\"\"Write a captivating product description for a luxurious, hand-crafted, limited-edition fountain pen made from rosewood and gold.\n",
    "Write no more than 50 words.\"\"\""
   ]
  },
  {
   "cell_type": "code",
   "execution_count": 5,
   "metadata": {},
   "outputs": [],
   "source": [
    "response = openai.chat.completions.create(\n",
    "    model=\"gpt-3.5-turbo\",\n",
    "    messages=[\n",
    "        {\"role\": \"system\", \"content\": prompt_system},\n",
    "        {\"role\": \"user\", \"content\": prompt}\n",
    "    ]\n",
    ")"
   ]
  },
  {
   "cell_type": "code",
   "execution_count": 6,
   "metadata": {},
   "outputs": [
    {
     "name": "stdout",
     "output_type": "stream",
     "text": [
      "Experience the epitome of elegance with our limited-edition fountain pen. Meticulously hand-crafted from exquisite rosewood and adorned with luxurious gold accents, this masterpiece is a tribute to opulence and sophistication. Indulge in the art of writing with this truly remarkable instrument.\n"
     ]
    }
   ],
   "source": [
    "print(response.choices[0].message.content)"
   ]
  },
  {
   "cell_type": "markdown",
   "metadata": {},
   "source": [
    "# Zero-Shot Prompting"
   ]
  },
  {
   "cell_type": "code",
   "execution_count": 7,
   "metadata": {},
   "outputs": [],
   "source": [
    "prompt_system = \"You are a helpful assistant whose goal is to write short poems.\"\n",
    "\n",
    "prompt = \"\"\"Write a short poem about {topic}.\"\"\""
   ]
  },
  {
   "cell_type": "code",
   "execution_count": 8,
   "metadata": {},
   "outputs": [],
   "source": [
    "response = openai.chat.completions.create(\n",
    "    model=\"gpt-3.5-turbo\",\n",
    "    messages=[\n",
    "        {\"role\": \"system\", \"content\": prompt_system},\n",
    "        {\"role\": \"user\", \"content\": prompt.format(topic=\"summer\")}\n",
    "    ]\n",
    ")"
   ]
  },
  {
   "cell_type": "code",
   "execution_count": 9,
   "metadata": {},
   "outputs": [
    {
     "name": "stdout",
     "output_type": "stream",
     "text": [
      "Sun kissed days, warm and bright,\n",
      "Summer brings pure delight.\n",
      "Beaches calling, waves crash and play,\n",
      "Laughter echoes, a carefree display.\n",
      "\n",
      "Barefoot adventures, walking through sand,\n",
      "Seashells gathered with a gentle hand.\n",
      "Ice cream treats, melting on the tongue,\n",
      "From morning to dusk, never feeling young.\n",
      "\n",
      "Picnics in parks, blankets spread wide,\n",
      "Shaded trees, where memories reside.\n",
      "Swimming in lakes, a refreshing dive,\n",
      "All worries forgotten, a temporary reprieve.\n",
      "\n",
      "Fireflies dancing, a magical scene,\n",
      "Starry nights, where dreams convene.\n",
      "Summer's embrace, a season so sweet,\n",
      "In its fleeting beauty, our hearts meet.\n"
     ]
    }
   ],
   "source": [
    "print(response.choices[0].message.content)"
   ]
  },
  {
   "cell_type": "markdown",
   "metadata": {},
   "source": [
    "# In-Context Learning And Few-Shot Prompting"
   ]
  },
  {
   "cell_type": "code",
   "execution_count": 10,
   "metadata": {},
   "outputs": [],
   "source": [
    "prompt_system = \"You are a helpful assistant whose goal is to write short poems.\"\n",
    "\n",
    "prompt = \"\"\"Write a short poem about {topic}.\"\"\"\n"
   ]
  },
  {
   "cell_type": "code",
   "execution_count": 11,
   "metadata": {},
   "outputs": [],
   "source": [
    "examples = {\n",
    "    \"nature\": \"Birdsong fills the air,\\nMountains high and valleys deep,\\nNature's music sweet.\",\n",
    "    \"winter\": \"Snow blankets the ground,\\nSilence is the only sound,\\nWinter's beauty found.\"\n",
    "}"
   ]
  },
  {
   "cell_type": "code",
   "execution_count": 12,
   "metadata": {},
   "outputs": [],
   "source": [
    "response = openai.chat.completions.create(\n",
    "    model=\"gpt-3.5-turbo\",\n",
    "    messages=[\n",
    "        {\"role\": \"system\", \"content\": prompt_system},\n",
    "        {\"role\": \"user\", \"content\": prompt.format(topic=\"nature\")},\n",
    "        {\"role\": \"assistant\", \"content\": examples[\"nature\"]},\n",
    "        {\"role\": \"user\", \"content\": prompt.format(topic=\"winter\")},\n",
    "        {\"role\": \"assistant\", \"content\": examples[\"winter\"]},\n",
    "        {\"role\": \"user\", \"content\": prompt.format(topic=\"summer\")}\n",
    "    ]\n",
    ")\n"
   ]
  },
  {
   "cell_type": "code",
   "execution_count": 13,
   "metadata": {},
   "outputs": [
    {
     "name": "stdout",
     "output_type": "stream",
     "text": [
      "Golden rays of sun,\n",
      "Laughter in the warm breeze,\n",
      "Summer's joy has begun.\n"
     ]
    }
   ],
   "source": [
    "print(response.choices[0].message.content) "
   ]
  }
 ],
 "metadata": {
  "kernelspec": {
   "display_name": "activeloop-course",
   "language": "python",
   "name": "python3"
  },
  "language_info": {
   "codemirror_mode": {
    "name": "ipython",
    "version": 3
   },
   "file_extension": ".py",
   "mimetype": "text/x-python",
   "name": "python",
   "nbconvert_exporter": "python",
   "pygments_lexer": "ipython3",
   "version": "3.8.18"
  }
 },
 "nbformat": 4,
 "nbformat_minor": 2
}
